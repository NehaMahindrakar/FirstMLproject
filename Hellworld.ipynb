{
  "nbformat": 4,
  "nbformat_minor": 0,
  "metadata": {
    "colab": {
      "name": "Hellworld.ipynb",
      "provenance": [],
      "authorship_tag": "ABX9TyPZqAFRwyk63v4VZQrvrYXT",
      "include_colab_link": true
    },
    "kernelspec": {
      "name": "python3",
      "display_name": "Python 3"
    }
  },
  "cells": [
    {
      "cell_type": "markdown",
      "metadata": {
        "id": "view-in-github",
        "colab_type": "text"
      },
      "source": [
        "<a href=\"https://colab.research.google.com/github/NehaMahindrakar/FirstMLproject/blob/master/Hellworld.ipynb\" target=\"_parent\"><img src=\"https://colab.research.google.com/assets/colab-badge.svg\" alt=\"Open In Colab\"/></a>"
      ]
    },
    {
      "cell_type": "code",
      "metadata": {
        "id": "aPkaThX2Y3tm",
        "outputId": "f82a740a-c8a2-4326-ea52-2db74ae977e2",
        "colab": {
          "base_uri": "https://localhost:8080/",
          "height": 34
        }
      },
      "source": [
        "from sklearn import tree\n",
        "features=[[140,1],[130,1],[150,0],[170,0]]\n",
        "labels=[0,0,1,1]\n",
        "clf=tree.DecisionTreeClassifier()\n",
        "clf=clf.fit(features,labels)\n",
        "print(clf.predict([[130, 0]]))"
      ],
      "execution_count": 7,
      "outputs": [
        {
          "output_type": "stream",
          "text": [
            "[1]\n"
          ],
          "name": "stdout"
        }
      ]
    }
  ]
}