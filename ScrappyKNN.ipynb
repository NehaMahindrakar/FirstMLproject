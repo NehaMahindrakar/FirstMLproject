{
  "nbformat": 4,
  "nbformat_minor": 0,
  "metadata": {
    "colab": {
      "name": "ScrappyKNN.ipynb",
      "provenance": [],
      "authorship_tag": "ABX9TyPlYZAXDnuBVX/pPOgg1R/G",
      "include_colab_link": true
    },
    "kernelspec": {
      "name": "python3",
      "display_name": "Python 3"
    }
  },
  "cells": [
    {
      "cell_type": "markdown",
      "metadata": {
        "id": "view-in-github",
        "colab_type": "text"
      },
      "source": [
        "<a href=\"https://colab.research.google.com/github/NehaMahindrakar/FirstMLproject/blob/master/ScrappyKNN.ipynb\" target=\"_parent\"><img src=\"https://colab.research.google.com/assets/colab-badge.svg\" alt=\"Open In Colab\"/></a>"
      ]
    },
    {
      "cell_type": "code",
      "metadata": {
        "id": "jflKBi5olgsp",
        "outputId": "9c6d9431-0955-4810-b055-19d51b35dcd7",
        "colab": {
          "base_uri": "https://localhost:8080/",
          "height": 67
        }
      },
      "source": [
        "!pip install scipy\n",
        "\n",
        "from scipy.spatial import distance\n",
        "\n",
        "def euc(a,b):\n",
        "  return distance.euclidean(a,b)\n",
        "\n",
        "\n",
        "class ScrapyKNN():\n",
        "  def fit(self,X_train,y_train):\n",
        "    self.X_train=X_train\n",
        "    self.y_train=y_train\n",
        "\n",
        "  def predict(self, X_test):\n",
        "    predictions=[]\n",
        "    for row in X_test:\n",
        "      label=self.closest(row)\n",
        "      predictions.append(label)\n",
        "    return predictions\n",
        "\n",
        "  def closest(self, row):\n",
        "    best_dist=euc(row, self.X_train[0])\n",
        "    best_index=0\n",
        "    for i in range(1, len(self.X_train)):\n",
        "      dist=euc(row, self.X_train[i])\n",
        "      if dist < best_dist:\n",
        "        best_dist=dist\n",
        "        best_index=i\n",
        "    return self.y_train[best_index]\n",
        "\n",
        " \n",
        "\n",
        "from sklearn import datasets\n",
        "iris=datasets.load_iris()\n",
        "\n",
        "X=iris.data\n",
        "y=iris.target\n",
        "\n",
        "from sklearn.model_selection import train_test_split\n",
        "X_train, X_test, y_train, y_test=train_test_split(X, y, test_size=0.5)\n",
        "\n",
        "#from sklearn.neighbors import KNeighborsClassifier\n",
        "my_classifier=ScrapyKNN()\n",
        "\n",
        "my_classifier.fit(X_train,y_train)\n",
        "predictions=my_classifier.predict(X_test)\n",
        "\n",
        "from sklearn.metrics import accuracy_score\n",
        "print(accuracy_score(y_test, predictions))"
      ],
      "execution_count": null,
      "outputs": [
        {
          "output_type": "stream",
          "text": [
            "Requirement already satisfied: scipy in /usr/local/lib/python3.6/dist-packages (1.4.1)\n",
            "Requirement already satisfied: numpy>=1.13.3 in /usr/local/lib/python3.6/dist-packages (from scipy) (1.18.5)\n",
            "0.9466666666666667\n"
          ],
          "name": "stdout"
        }
      ]
    }
  ]
}